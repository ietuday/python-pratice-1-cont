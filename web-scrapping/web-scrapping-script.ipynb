{
 "cells": [
  {
   "cell_type": "code",
   "execution_count": 16,
   "metadata": {},
   "outputs": [],
   "source": [
    "import requests\n",
    "import csv\n",
    "from bs4 import BeautifulSoup\n",
    "\n",
    "\n",
    "f = csv.writer(open('z-artist-names.csv', 'w'))\n",
    "f.writerow(['Name', 'Link'])\n",
    "\n",
    "pages = []\n",
    "\n",
    "for i in range(1, 5):\n",
    "    url = 'https://web.archive.org/web/20121007172955/https://www.nga.gov/collection/anZ' + str(i) + '.htm'\n",
    "    pages.append(url)\n",
    "\n",
    "\n",
    "for item in pages:\n",
    "    page = requests.get(item)\n",
    "    soup = BeautifulSoup(page.text, 'html.parser')\n",
    "\n",
    "    last_links = soup.find(class_='AlphaNav')\n",
    "    last_links.decompose()\n",
    "\n",
    "    artist_name_list = soup.find(class_='BodyText')\n",
    "    artist_name_list_items = artist_name_list.find_all('a')\n",
    "\n",
    "    for artist_name in artist_name_list_items:\n",
    "        names = artist_name.contents[0]\n",
    "        links = 'https://web.archive.org' + artist_name.get('href')\n",
    "\n",
    "        f.writerow([names, links])\n"
   ]
  },
  {
   "cell_type": "code",
   "execution_count": null,
   "metadata": {},
   "outputs": [],
   "source": []
  }
 ],
 "metadata": {
  "kernelspec": {
   "display_name": "Python 3",
   "language": "python",
   "name": "python3"
  },
  "language_info": {
   "codemirror_mode": {
    "name": "ipython",
    "version": 3
   },
   "file_extension": ".py",
   "mimetype": "text/x-python",
   "name": "python",
   "nbconvert_exporter": "python",
   "pygments_lexer": "ipython3",
   "version": "3.7.3"
  }
 },
 "nbformat": 4,
 "nbformat_minor": 2
}
