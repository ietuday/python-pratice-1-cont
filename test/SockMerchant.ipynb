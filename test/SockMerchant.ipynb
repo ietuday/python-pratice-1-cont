{
 "cells": [
  {
   "cell_type": "code",
   "execution_count": 2,
   "metadata": {},
   "outputs": [
    {
     "name": "stdout",
     "output_type": "stream",
     "text": [
      "9\n",
      "9\n",
      "0\n"
     ]
    }
   ],
   "source": [
    "from collections import defaultdict\n",
    " \n",
    "n = int(input().strip())\n",
    "c = map(int,input().strip().split(' '))\n",
    " \n",
    "d = defaultdict(int)\n",
    "for k in c:\n",
    "    d[k] += 1\n",
    "\n",
    "cnt = 0\n",
    "for ele in d.values():\n",
    "    cnt += ele//2\n",
    "     \n",
    "print(cnt)"
   ]
  },
  {
   "cell_type": "code",
   "execution_count": null,
   "metadata": {},
   "outputs": [],
   "source": []
  }
 ],
 "metadata": {
  "kernelspec": {
   "display_name": "Python 3",
   "language": "python",
   "name": "python3"
  },
  "language_info": {
   "codemirror_mode": {
    "name": "ipython",
    "version": 3
   },
   "file_extension": ".py",
   "mimetype": "text/x-python",
   "name": "python",
   "nbconvert_exporter": "python",
   "pygments_lexer": "ipython3",
   "version": "3.7.3"
  }
 },
 "nbformat": 4,
 "nbformat_minor": 2
}
