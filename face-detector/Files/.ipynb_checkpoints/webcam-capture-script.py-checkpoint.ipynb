{
 "cells": [
  {
   "cell_type": "code",
   "execution_count": 1,
   "metadata": {},
   "outputs": [],
   "source": [
    "import cv2, time"
   ]
  },
  {
   "cell_type": "code",
   "execution_count": 2,
   "metadata": {},
   "outputs": [
    {
     "name": "stdout",
     "output_type": "stream",
     "text": [
      "True\n",
      "[[[209 209 195]\n",
      "  [204 204 191]\n",
      "  [204 204 191]\n",
      "  ...\n",
      "  [191 184 169]\n",
      "  [191 190 174]\n",
      "  [190 188 173]]\n",
      "\n",
      " [[205 205 192]\n",
      "  [202 202 188]\n",
      "  [195 195 181]\n",
      "  ...\n",
      "  [193 184 169]\n",
      "  [191 188 170]\n",
      "  [188 185 168]]\n",
      "\n",
      " [[202 202 188]\n",
      "  [204 204 191]\n",
      "  [190 190 177]\n",
      "  ...\n",
      "  [198 188 171]\n",
      "  [193 185 168]\n",
      "  [193 185 168]]\n",
      "\n",
      " ...\n",
      "\n",
      " [[ 50  40  42]\n",
      "  [ 55  45  47]\n",
      "  [ 57  47  49]\n",
      "  ...\n",
      "  [ 13  20  14]\n",
      "  [ 13  20  14]\n",
      "  [ 15  21  15]]\n",
      "\n",
      " [[ 49  45  45]\n",
      "  [ 55  50  51]\n",
      "  [ 53  51  51]\n",
      "  ...\n",
      "  [ 19  20  15]\n",
      "  [ 19  21  14]\n",
      "  [ 19  21  14]]\n",
      "\n",
      " [[ 45  47  42]\n",
      "  [ 49  51  46]\n",
      "  [ 50  50  43]\n",
      "  ...\n",
      "  [ 21  20  15]\n",
      "  [ 19  20  15]\n",
      "  [ 17  19  14]]]\n"
     ]
    }
   ],
   "source": [
    "import cv2, time\n",
    "while True:\n",
    "    video = cv2.VideoCapture(0)\n",
    "    check, frame = video.read()\n",
    "    print(check)\n",
    "    print(frame)\n",
    "    gray = cv2.cvtColor(frame, cv2.COLOR_BGR2GRAY)\n",
    "    time.sleep(3)\n",
    "    cv2.imshow(\"Capturning\",gray)\n",
    "    cv2.waitKey(0)\n",
    "video.release()\n",
    "cv2.destroyAllWindows()"
   ]
  },
  {
   "cell_type": "code",
   "execution_count": 3,
   "metadata": {},
   "outputs": [],
   "source": []
  },
  {
   "cell_type": "code",
   "execution_count": 4,
   "metadata": {},
   "outputs": [],
   "source": [
    "\n"
   ]
  },
  {
   "cell_type": "code",
   "execution_count": null,
   "metadata": {},
   "outputs": [],
   "source": []
  }
 ],
 "metadata": {
  "kernelspec": {
   "display_name": "Python 3",
   "language": "python",
   "name": "python3"
  },
  "language_info": {
   "codemirror_mode": {
    "name": "ipython",
    "version": 3
   },
   "file_extension": ".py",
   "mimetype": "text/x-python",
   "name": "python",
   "nbconvert_exporter": "python",
   "pygments_lexer": "ipython3",
   "version": "3.7.3"
  }
 },
 "nbformat": 4,
 "nbformat_minor": 2
}
